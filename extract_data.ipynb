{
 "cells": [
  {
   "cell_type": "code",
   "execution_count": 1,
   "metadata": {},
   "outputs": [],
   "source": [
    "import requests\n",
    "import csv"
   ]
  },
  {
   "cell_type": "code",
   "execution_count": 2,
   "metadata": {},
   "outputs": [
    {
     "name": "stdout",
     "output_type": "stream",
     "text": [
      "{'rank': [{'id': '6326', 'rank': '1', 'name': 'Kane Williamson', 'country': 'New Zealand', 'rating': '859', 'points': '859', 'lastUpdatedOn': '2024-05-18', 'trend': 'Flat', 'faceImageId': '351812', 'countryId': '13', 'avg': '54.99'}, {'id': '8019', 'rank': '2', 'name': 'Joe Root', 'country': 'England', 'rating': '824', 'points': '824', 'lastUpdatedOn': '2024-05-18', 'trend': 'Flat', 'faceImageId': '351574', 'countryId': '9', 'avg': '49.73'}, {'id': '10713', 'rank': '3', 'name': 'Daryl Mitchell', 'country': 'New Zealand', 'rating': '768', 'points': '768', 'lastUpdatedOn': '2024-05-18', 'trend': 'Flat', 'faceImageId': '351601', 'countryId': '13', 'avg': '50.25'}, {'id': '8359', 'rank': '3', 'name': 'Babar Azam', 'country': 'Pakistan', 'rating': '768', 'points': '768', 'lastUpdatedOn': '2024-05-18', 'trend': 'Flat', 'faceImageId': '352417', 'countryId': '3', 'avg': '45.86'}, {'id': '2250', 'rank': '5', 'name': 'Steven Smith', 'country': 'Australia', 'rating': '757', 'points': '757', 'lastUpdatedOn': '2024-05-18', 'trend': 'Flat', 'faceImageId': '352448', 'countryId': '4', 'avg': '56.97'}, {'id': '576', 'rank': '6', 'name': 'Rohit Sharma', 'country': 'India', 'rating': '751', 'points': '751', 'lastUpdatedOn': '2024-05-18', 'trend': 'Flat', 'faceImageId': '352478', 'countryId': '2', 'avg': '45.47'}, {'id': '13940', 'rank': '7', 'name': 'Yashasvi Jaiswal', 'country': 'India', 'rating': '740', 'points': '740', 'lastUpdatedOn': '2024-05-18', 'trend': 'Flat', 'faceImageId': '226279', 'countryId': '2', 'avg': '68.53'}, {'id': '7952', 'rank': '8', 'name': 'Dimuth Karunaratne', 'country': 'Sri Lanka', 'rating': '739', 'points': '739', 'lastUpdatedOn': '2024-05-18', 'trend': 'Flat', 'faceImageId': '351881', 'countryId': '5', 'avg': '41.31'}, {'id': '1413', 'rank': '9', 'name': 'Virat Kohli', 'country': 'India', 'rating': '737', 'points': '737', 'lastUpdatedOn': '2024-05-18', 'trend': 'Flat', 'faceImageId': '332891', 'countryId': '2', 'avg': '49.16'}, {'id': '12201', 'rank': '10', 'name': 'Harry Brook', 'country': 'England', 'rating': '735', 'points': '735', 'lastUpdatedOn': '2024-05-18', 'trend': 'Flat', 'faceImageId': '351859', 'countryId': '9', 'avg': '62.16'}, {'id': '6635', 'rank': '11', 'name': 'Usman Khawaja', 'country': 'Australia', 'rating': '728', 'points': '728', 'lastUpdatedOn': '2024-05-18', 'trend': 'Flat', 'faceImageId': '332905', 'countryId': '4', 'avg': '45.42'}, {'id': '10182', 'rank': '12', 'name': 'Marnus Labuschagne', 'country': 'Australia', 'rating': '720', 'points': '720', 'lastUpdatedOn': '2024-05-18', 'trend': 'Flat', 'faceImageId': '352455', 'countryId': '4', 'avg': '49.57'}, {'id': '8497', 'rank': '13', 'name': 'Travis Head', 'country': 'Australia', 'rating': '697', 'points': '697', 'lastUpdatedOn': '2024-05-18', 'trend': 'Flat', 'faceImageId': '332908', 'countryId': '4', 'avg': '41.75'}, {'id': '9812', 'rank': '14', 'name': 'Saud Shakeel', 'country': 'Pakistan', 'rating': '693', 'points': '693', 'lastUpdatedOn': '2024-05-18', 'trend': 'Flat', 'faceImageId': '352423', 'countryId': '3', 'avg': '60.44'}, {'id': '10744', 'rank': '15', 'name': 'Rishabh Pant', 'country': 'India', 'rating': '692', 'points': '692', 'lastUpdatedOn': '2024-05-18', 'trend': 'Flat', 'faceImageId': '244978', 'countryId': '2', 'avg': '43.67'}], 'appIndex': {'seoTitle': 'ICC Cricket Rankings - Top 100 Batter | Cricbuzz.com', 'webURL': 'www.cricbuzz.com/cricket-stats/icc-rankings'}}\n"
     ]
    }
   ],
   "source": [
    "url = \"https://cricbuzz-cricket.p.rapidapi.com/stats/v1/rankings/batsmen\"\n",
    "\n",
    "querystring = {\"formatType\":\"test\"}\n",
    "\n",
    "headers = {\n",
    "\t\"x-rapidapi-key\": \"734d4ee5cbmsh3a6ab7c7bf1e4b4p1b0a81jsn22701c253a34\",\n",
    "\t\"x-rapidapi-host\": \"cricbuzz-cricket.p.rapidapi.com\"\n",
    "}\n",
    "\n",
    "response = requests.get(url, headers=headers, params=querystring)\n",
    "\n",
    "print(response.json())"
   ]
  },
  {
   "cell_type": "code",
   "execution_count": 3,
   "metadata": {},
   "outputs": [
    {
     "name": "stdout",
     "output_type": "stream",
     "text": [
      "Data fetched successfully and written to 'batsmen_ranking.csv'\n"
     ]
    }
   ],
   "source": [
    "if response.status_code == 200:\n",
    "    data = response.json().get('rank', []) # Extract 'rank' data\n",
    "    csv_filename = 'batsmen_ranking.csv'\n",
    "\n",
    "    if data:\n",
    "        field_names = ['rank', 'name', 'country'] # Specify required field names\n",
    "\n",
    "        # Write data to csv with only the specified field names\n",
    "        with open(csv_filename, 'w', newline='', encoding='utf-8') as csvfile:\n",
    "            writer = csv.DictWriter(csvfile, fieldnames=field_names)\n",
    "\n",
    "            for entry in data:\n",
    "                writer.writerow({field: entry.get(field) for field in field_names})\n",
    "\n",
    "        print(f\"Data fetched successfully and written to '{csv_filename}'\")\n",
    "    else:\n",
    "        print('No data available from the API.')\n",
    "else:\n",
    "    print('Failed to fetch data:', response.status_code)"
   ]
  }
 ],
 "metadata": {
  "kernelspec": {
   "display_name": "Python 3",
   "language": "python",
   "name": "python3"
  },
  "language_info": {
   "codemirror_mode": {
    "name": "ipython",
    "version": 3
   },
   "file_extension": ".py",
   "mimetype": "text/x-python",
   "name": "python",
   "nbconvert_exporter": "python",
   "pygments_lexer": "ipython3",
   "version": "3.12.2"
  }
 },
 "nbformat": 4,
 "nbformat_minor": 2
}
